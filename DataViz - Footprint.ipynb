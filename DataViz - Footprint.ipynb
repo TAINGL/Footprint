{
 "cells": [
  {
   "cell_type": "markdown",
   "metadata": {},
   "source": [
    "### DATAVIZ"
   ]
  },
  {
   "cell_type": "markdown",
   "metadata": {},
   "source": [
    "Inspiration:\n",
    "- http://happyplanetindex.org/\n",
    "- https://www.footprintnetwork.org/resources/\n",
    "- http://data.footprintnetwork.org/#/?\n",
    "\n",
    "Map world: \n",
    "- https://geojson-maps.ash.ms/\n",
    "- https://github.com/johan/world.geo.json\n",
    "- https://github.com/datasets/geo-countries"
   ]
  },
  {
   "cell_type": "markdown",
   "metadata": {},
   "source": [
    "- Votre pays affiche-t-il un déficit écologique et consomme plus de ressources qu'il ne peut en produire par an? - Quels pays ont les plus grands déficits ou réserves écologiques? \n",
    "- Consomment-ils moins ou produisent-ils plus que le pays moyen? \n",
    "- Quand le Jour du dépassement de la Terre, le jour du calendrier où l'humanité aura-t-il utilisé une année de ressources naturelles, aura-t-il lieu en 2019?\n",
    "- Quelle est l'empreinte et la biocapacité de votre pays - et quelle est la plus grande? \n",
    "- Pouvez-vous savoir pourquoi? \n",
    "- Qu'en est-il des différentes régions ou groupes économiques?\n",
    "- Pouvez-vous identifier l'effet de politiques durables (ou non durables)? \n",
    "- Existe-t-il un bon moyen de prédire les valeurs futures de l'empreinte? \n",
    "- Existe-t-il des indicateurs externes étroitement liés aux valeurs de l'empreinte?"
   ]
  },
  {
   "cell_type": "code",
   "execution_count": null,
   "metadata": {},
   "outputs": [],
   "source": [
    "#Writing a csv file into SQL Server database using python\n",
    "#https://stackoverflow.com/questions/21257899/writing-a-csv-file-into-sql-server-database-using-python\n",
    "\n",
    "# Méthode: lier directement le DB à la visualisation \n",
    "# ou partir de ton SQL > Dataframe > visualisation"
   ]
  }
 ],
 "metadata": {
  "kernelspec": {
   "display_name": "Python 3",
   "language": "python",
   "name": "python3"
  },
  "language_info": {
   "codemirror_mode": {
    "name": "ipython",
    "version": 3
   },
   "file_extension": ".py",
   "mimetype": "text/x-python",
   "name": "python",
   "nbconvert_exporter": "python",
   "pygments_lexer": "ipython3",
   "version": "3.6.0"
  }
 },
 "nbformat": 4,
 "nbformat_minor": 2
}
